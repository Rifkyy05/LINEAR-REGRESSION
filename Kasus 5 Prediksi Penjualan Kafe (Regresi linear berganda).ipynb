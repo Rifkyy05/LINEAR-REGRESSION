{
 "cells": [
  {
   "cell_type": "code",
   "execution_count": null,
   "id": "bac5d492-2cd2-4c90-810b-3f262354fcff",
   "metadata": {},
   "outputs": [],
   "source": [
    "import numpy as np\n",
    "from sklearn.linear_model import LinearRegression\n",
    "\n",
    "# Data\n",
    "X = np.array([\n",
    "    [50, 2],\n",
    "    [60, 3],\n",
    "    [70, 4],\n",
    "    [80, 5],\n",
    "    [90, 6]\n",
    "])  # X1: jumlah pengunjung, X2: jumlah menu baru\n",
    "\n",
    "y = np.array([400, 480, 560, 640, 720])  # Penjualan (ribu)\n",
    "\n",
    "# Buat model regresi linear berganda\n",
    "model = LinearRegression()\n",
    "model.fit(X, y)\n",
    "\n",
    "# Ambil koefisien dan intercept\n",
    "intercept = model.intercept_\n",
    "coefficients = model.coef_\n",
    "\n",
    "print(f\"Persamaan regresi: Y = {intercept:.2f} + ({coefficients[0]:.2f})*X1 + ({coefficients[1]:.2f})*X2\")\n",
    "\n",
    "# Prediksi penjualan jika pengunjung = 75 dan menu baru = 4\n",
    "X_pred = np.array([[75, 4]])\n",
    "y_pred = model.predict(X_pred)\n",
    "print(f\"Prediksi penjualan: {y_pred[0]:.2f} ribu rupiah\")\n"
   ]
  }
 ],
 "metadata": {
  "kernelspec": {
   "display_name": "Python 3 (ipykernel)",
   "language": "python",
   "name": "python3"
  },
  "language_info": {
   "codemirror_mode": {
    "name": "ipython",
    "version": 3
   },
   "file_extension": ".py",
   "mimetype": "text/x-python",
   "name": "python",
   "nbconvert_exporter": "python",
   "pygments_lexer": "ipython3",
   "version": "3.12.7"
  }
 },
 "nbformat": 4,
 "nbformat_minor": 5
}
