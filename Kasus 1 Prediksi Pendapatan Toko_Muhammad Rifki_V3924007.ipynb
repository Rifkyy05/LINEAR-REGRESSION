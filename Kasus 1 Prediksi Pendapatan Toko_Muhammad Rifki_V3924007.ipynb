{
 "cells": [
  {
   "cell_type": "code",
   "execution_count": 5,
   "id": "f0dd8384-422d-45e9-a5fb-6b309290d75b",
   "metadata": {},
   "outputs": [
    {
     "name": "stdout",
     "output_type": "stream",
     "text": [
      "Pendapatan yang diprediksi jika pelanggan berjumlah 35 orang: 700.00 ribu rupiah\n"
     ]
    }
   ],
   "source": [
    "import numpy as np\n",
    "from sklearn.linear_model import LinearRegression\n",
    "\n",
    "# Data\n",
    "X = np.array([[10], [20], [30], [40], [50]])  # Jumlah pelanggan\n",
    "y = np.array([200, 400, 600, 800, 1000])      # Pendapatan (ribu)\n",
    "\n",
    "# Buat model regresi linear\n",
    "model = LinearRegression()\n",
    "model.fit(X, y)\n",
    "\n",
    "# Prediksi pendapatan jika pelanggan = 35\n",
    "X_pred = np.array([[35]])\n",
    "y_pred = model.predict(X_pred)\n",
    "\n",
    "print(f\"Pendapatan yang diprediksi jika pelanggan berjumlah 35 orang: {y_pred[0]:.2f} ribu rupiah\")\n",
    "\n"
   ]
  },
  {
   "cell_type": "code",
   "execution_count": null,
   "id": "af25536b-4f3a-4c16-a513-d660009abbe2",
   "metadata": {},
   "outputs": [],
   "source": []
  }
 ],
 "metadata": {
  "kernelspec": {
   "display_name": "Python 3 (ipykernel)",
   "language": "python",
   "name": "python3"
  },
  "language_info": {
   "codemirror_mode": {
    "name": "ipython",
    "version": 3
   },
   "file_extension": ".py",
   "mimetype": "text/x-python",
   "name": "python",
   "nbconvert_exporter": "python",
   "pygments_lexer": "ipython3",
   "version": "3.12.7"
  }
 },
 "nbformat": 4,
 "nbformat_minor": 5
}
