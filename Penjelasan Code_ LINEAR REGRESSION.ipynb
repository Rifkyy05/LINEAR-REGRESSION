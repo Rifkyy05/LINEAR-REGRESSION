{
 "cells": [
  {
   "cell_type": "code",
   "execution_count": null,
   "id": "e5224700-1218-4998-ac31-b7441e7fc3b6",
   "metadata": {},
   "outputs": [],
   "source": [
    "Penjelasan:\n",
    "\n",
    "Kasus 1 Prediksi Pendapatan Toko\n",
    "  X berisi jumlah pelanggan, y adalah pendapatan.\n",
    "  Model dilatih dan digunakan untuk memprediksi pendapatan saat pelanggan = 35.\n",
    "  Hasilnya dicetak dalam format ribuan rupiah.\n",
    "\n",
    "Kasus 2 Peningkatan Nilai Ujian\n",
    "  X adalah input berupa waktu belajar dalam jam.\n",
    "  y adalah target yaitu nilai ujian.\n",
    "  model.fit(X, y) melatih model untuk mencari hubungan linear.\n",
    "  model.coef_[0] adalah kemiringan (slope): berapa poin nilai bertambah setiap jam belajar.\n",
    "  Hasilnya: Setiap tambahan 1 jam belajar meningkatkan nilai sekitar 5 poin.\n",
    "\n",
    "Kasus 3 Prediksi Harga Kendaraan\n",
    "  X berisi usia kendaraan dalam tahun.\n",
    "  y adalah harga jual dalam juta rupiah.\n",
    "  Persamaan regresi diperoleh: \n",
    "  𝑌=165−15𝑋\n",
    "  Jadi: Setiap bertambah 1 tahun, harga turun 15 juta.\n",
    "  Usia 4 tahun → harga jual: Rp105 juta.\n",
    "\n",
    "Kasus 4 Prediksi Biaya Pulsa\n",
    "  Hubungan antara jam internet dan biaya pulsa diasumsikan linear.\n",
    "  Model menunjukkan bahwa setiap 1 jam menambah biaya Rp5.000.\n",
    "  Untuk 18 jam, prediksi biaya adalah: Rp90.000.\n",
    "\n",
    "Kasus 5 Prediksi Penjualan Kafe (Regresi linear berganda)\n",
    "  X punya dua fitur: X1 = pengunjung, X2 = menu baru.\n",
    "  y adalah penjualan dalam ribu rupiah.\n",
    "  Persamaan regresi berganda diperoleh:\n",
    "  𝑌=2.38+7.92×𝑋1+0.79×𝑋2\n",
    "  Artinya:\n",
    "  Setiap tambahan 1 pengunjung menaikkan penjualan sebesar Rp7.920\n",
    "  Setiap tambahan 1 menu baru menaikkan Rp790\n",
    "  Untuk 75 pengunjung dan 4 menu baru → penjualan diprediksi Rp599.60 ribu."
   ]
  }
 ],
 "metadata": {
  "kernelspec": {
   "display_name": "Python 3 (ipykernel)",
   "language": "python",
   "name": "python3"
  },
  "language_info": {
   "codemirror_mode": {
    "name": "ipython",
    "version": 3
   },
   "file_extension": ".py",
   "mimetype": "text/x-python",
   "name": "python",
   "nbconvert_exporter": "python",
   "pygments_lexer": "ipython3",
   "version": "3.12.7"
  }
 },
 "nbformat": 4,
 "nbformat_minor": 5
}
