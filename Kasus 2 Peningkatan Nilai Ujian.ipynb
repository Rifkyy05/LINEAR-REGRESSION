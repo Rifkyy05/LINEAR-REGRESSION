{
 "cells": [
  {
   "cell_type": "code",
   "execution_count": 1,
   "id": "e6ec2924-77fb-4c59-8113-9bff98d251ed",
   "metadata": {},
   "outputs": [
    {
     "name": "stdout",
     "output_type": "stream",
     "text": [
      "Rata-rata peningkatan nilai untuk setiap jam belajar: 5.00 poin\n"
     ]
    }
   ],
   "source": [
    "import numpy as np\n",
    "from sklearn.linear_model import LinearRegression\n",
    "\n",
    "# Data\n",
    "X = np.array([[1], [2], [3], [4]])  # Waktu belajar (jam)\n",
    "y = np.array([60, 65, 70, 75])      # Nilai ujian\n",
    "\n",
    "# Buat model regresi linear\n",
    "model = LinearRegression()\n",
    "model.fit(X, y)\n",
    "\n",
    "# Ambil slope (kemiringan garis regresi)\n",
    "slope = model.coef_[0]\n",
    "print(f\"Rata-rata peningkatan nilai untuk setiap jam belajar: {slope:.2f} poin\")\n"
   ]
  },
  {
   "cell_type": "code",
   "execution_count": null,
   "id": "9b679a57-2f66-4951-98d2-2eaa493412bc",
   "metadata": {},
   "outputs": [],
   "source": []
  }
 ],
 "metadata": {
  "kernelspec": {
   "display_name": "Python 3 (ipykernel)",
   "language": "python",
   "name": "python3"
  },
  "language_info": {
   "codemirror_mode": {
    "name": "ipython",
    "version": 3
   },
   "file_extension": ".py",
   "mimetype": "text/x-python",
   "name": "python",
   "nbconvert_exporter": "python",
   "pygments_lexer": "ipython3",
   "version": "3.12.7"
  }
 },
 "nbformat": 4,
 "nbformat_minor": 5
}
